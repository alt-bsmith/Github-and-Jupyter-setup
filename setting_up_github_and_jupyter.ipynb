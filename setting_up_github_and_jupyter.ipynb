{
  "cells": [
    {
      "cell_type": "markdown",
      "metadata": {
        "id": "view-in-github",
        "colab_type": "text"
      },
      "source": [
        "<a href=\"https://colab.research.google.com/github/alt-bsmith/Github-and-Jupyter-setup/blob/main/setting_up_github_and_jupyter.ipynb\" target=\"_parent\"><img src=\"https://colab.research.google.com/assets/colab-badge.svg\" alt=\"Open In Colab\"/></a>"
      ]
    },
    {
      "cell_type": "markdown",
      "metadata": {
        "id": "BxpXw-jU7_5V"
      },
      "source": [
        "# Intro to Human-Centered Data Science\n",
        "## Setting up GitHub and JupyterHub\n",
        "If you're reading this, you successfully forked the Git repo for this assignment from GitHub. Congratulations!   \n",
        "  \n",
        "Now that you've done that, you can see the first Jupyter Notebook for the class. To continue the assignment, let's do a few things with the notebook that we'll often see in data science tasks. But first, let's take a look at the Notebook itself. One of many great things about Jupyter Notebooks is that we can combine text, programming code, and visualizations in the same file."
      ]
    },
    {
      "cell_type": "markdown",
      "metadata": {
        "id": "RjjF3dFn7_5W"
      },
      "source": [
        "### Cells\n",
        "Jupyter Notebooks contain *cells* where you can write code an text, display visualizations, etc. You put content into a cell and then run the cell to get an output. Let's take a closer look at how to enter and run Python code in a cell.   \n",
        "   \n",
        "The cell below contains a simple Python statement that adds and prints two numbers. Move your mouse over the cell and click into it. You can run the cell in two ways:\n",
        "1. When you hover over or click into a cell in Colab, you'll see a triangle icon, the play button, appear on the left side. Click that, and the cell will run.\n",
        "2. Type Shift+Enter on your keyboard after clicking on the cell.  "
      ]
    },
    {
      "cell_type": "code",
      "execution_count": 1,
      "metadata": {
        "id": "C5FmO47M7_5W",
        "colab": {
          "base_uri": "https://localhost:8080/"
        },
        "outputId": "d023b86b-b274-43a9-d25e-feeaeea3be3a"
      },
      "outputs": [
        {
          "output_type": "stream",
          "name": "stdout",
          "text": [
            "100\n"
          ]
        }
      ],
      "source": [
        "## Our first line of Python code. Run this cell by clicking on the run button\n",
        "## in the top menu or clicking Shift+Enter anywhere in the cell.\n",
        "print(25+75)"
      ]
    },
    {
      "cell_type": "markdown",
      "metadata": {
        "id": "1gC6tlo17_5X"
      },
      "source": [
        "You should see the number 100 if the cell ran successfully. This is just the beginning. We can create far more complex Python code in the cells, but they still run the same way: Either click on the run icon or type Shift+Enter in the cell. Here's another example for you to run. By the way, don't get worried about the actual Python code yet."
      ]
    },
    {
      "cell_type": "code",
      "execution_count": 26,
      "metadata": {
        "id": "eXvkJBSg7_5X",
        "colab": {
          "base_uri": "https://localhost:8080/"
        },
        "outputId": "0e1383b3-a7c0-490d-bc45-cda1c665eca3"
      },
      "outputs": [
        {
          "output_type": "stream",
          "name": "stdout",
          "text": [
            "'I had a great time!' is positive\n",
            "'I was unhappy!' is negative\n",
            "'I feel blah today.' is neutral\n"
          ]
        }
      ],
      "source": [
        "import string\n",
        "\n",
        "# here's a very simple way to do sentiment analysis\n",
        "def sentiment_analysis(text):\n",
        "  # List of positive words\n",
        "  positive_words = [\"good\", \"great\", \"excellent\", \"love\", \"happy\"]\n",
        "\n",
        "  # List of negative words\n",
        "  negative_words = [\"bad\", \"terrible\", \"hate\", \"sad\", \"unhappy\"]\n",
        "\n",
        "  # remove punctuation\n",
        "  text = text.translate(str.maketrans('', '', string.punctuation))\n",
        "\n",
        "  # Make the text all lowercase. Then split into individual words\n",
        "  words = text.lower().split()\n",
        "\n",
        "  # count the number of positive and negative words\n",
        "  positive_count = sum([1 for word in words if word in\n",
        "positive_words])\n",
        "  negative_count = sum([1 for word in words if word in\n",
        "negative_words])\n",
        "\n",
        "  # If more positive words than negative words, return 'positive'\n",
        "  if positive_count > negative_count:\n",
        "      return 'positive'\n",
        "  # If more negative words than positive words, return 'negative'\n",
        "  elif positive_count < negative_count:\n",
        "      return 'negative'\n",
        "  # else return 'neutral'\n",
        "  else:\n",
        "      return 'neutral'\n",
        "\n",
        "# Test the function\n",
        "print(\"'I had a great time!' is\", sentiment_analysis(\"I had a great time!\"))  # Output: positive\n",
        "print(\"'I was unhappy!' is\", sentiment_analysis(\"I was unhappy.\"))  # Output: negative\n",
        "print(\"'I feel blah today.' is\", sentiment_analysis(\"I feel blah today.\"))  # Output: neutral\n"
      ]
    },
    {
      "cell_type": "markdown",
      "source": [
        "That's a *very* simplified version of sentiment analysis, determining whether a sentence or phrase is positive, negative, or neutral. It's a useful technique in text analysis, and you'll certainly see more realistic implementations of it later in the program."
      ],
      "metadata": {
        "id": "C6tWXtEi3324"
      }
    },
    {
      "cell_type": "markdown",
      "metadata": {
        "id": "-gcGUVW67_5X"
      },
      "source": [
        "### Markdown\n",
        "The text you're reading now is in a format called [Markdown](https://www.markdownguide.org). Markdown is a simple language that lets you add formatting to plain text documents. You're used to formatting text by clicking on words or phrases and then selecting a format, e.g., bold, italic, Header, etc. In Markdown, you don't do apply formats this way: Instead, we add special codes to the text to specify the way it should appear.`\n",
        "\n",
        "For example, the first line in this document is a heading. To make it appear large, we add a number sign before (e.g., `# Intro to Human-Centered Data Science`). You can make _italicized_ by adding an asterisk or underscore before and after it (e.g.,  `_Jupyter Notebooks are great!_`). Want text in **bold**? Add two asterisks before and after the text (e.g., `**my bold text**`).  \n",
        "\n",
        "A Jupyter Notebook cell can be set to edit and display text with Markdown formats. It's a useful way to add documentation to your project with all the benefits of formatted text. [Here's](https://www.markdownguide.org/cheat-sheet/) a useful cheatsheet that describes all the Markdown syntax. Let's practice using some of the codes you'll use often.    \n"
      ]
    },
    {
      "cell_type": "markdown",
      "metadata": {
        "id": "5fj-N5fC7_5X"
      },
      "source": [
        "Using the [cheat sheet](https://www.markdownguide.org/cheat-sheet/) as a guide, write a short piece of text introducing yourself below adding the following formatting in Markdown:\n",
        "1. Include a *heading* with your name.\n",
        "2. Tell us where you did your undergraduate degree. Format the university in **bold** and *italicize* your major.\n",
        "3. Tell is why you decided to studay data science. Highlight your response using as a *blockquote*\n",
        "4. Name three of your hobbies using a *numbered* list.\n",
        "5. Provide the name of a web site that you often visit and include a *hyperlink* to that site."
      ]
    },
    {
      "cell_type": "markdown",
      "metadata": {
        "id": "KhKI1C8w7_5X"
      },
      "source": [
        "### ENTER YOUR TEXT WITH MARKDOWN BELOW  \n",
        "To edit a Markdown cell, you need to double-click it.  \n",
        "\n",
        "When you're done entering your text, hit Shift-Enter to run the cell and see the formatted text!\n"
      ]
    },
    {
      "cell_type": "markdown",
      "metadata": {
        "id": "7nI2C8eo7_5X"
      },
      "source": [
        "### Importing Python libraries\n",
        "We learned earlier that the Python programming language has many libraries that provide useful tools for free. We use a Python command called `import` to include a library in a Notebook. For example, the statement `import math` will make Python's math library available in our Notebook. The library lives in what is called a _module_. Think of it as a container filled with lots of math functions and constants. We have use what's called _dot notation_ to access the functions inside the module. Look at the code below for an example:\n"
      ]
    },
    {
      "cell_type": "code",
      "execution_count": 27,
      "metadata": {
        "id": "ZY6fp0vH7_5X",
        "colab": {
          "base_uri": "https://localhost:8080/"
        },
        "outputId": "dc09a510-f17a-41ea-b979-7673340c664c"
      },
      "outputs": [
        {
          "output_type": "stream",
          "name": "stdout",
          "text": [
            "<module 'math' (built-in)>\n"
          ]
        }
      ],
      "source": [
        "import math\n",
        "print(math)"
      ]
    },
    {
      "cell_type": "markdown",
      "metadata": {
        "id": "4hyAdc6X7_5X"
      },
      "source": [
        "We used `import` to bring the math library into our Notebook. When we print math, we see its type identifier. Don't worry too much about this except to note that it is a module. Now let's access the content `pi` within the module."
      ]
    },
    {
      "cell_type": "code",
      "execution_count": 28,
      "metadata": {
        "id": "ijVly_dE7_5Y",
        "colab": {
          "base_uri": "https://localhost:8080/"
        },
        "outputId": "84498bb4-0be1-45bb-b049-9903a7ec1c29"
      },
      "outputs": [
        {
          "output_type": "stream",
          "name": "stdout",
          "text": [
            "3.141592653589793\n"
          ]
        }
      ],
      "source": [
        "print(math.pi)"
      ]
    },
    {
      "cell_type": "markdown",
      "metadata": {
        "id": "CV1nGgVf7_5Y"
      },
      "source": [
        "There's the dot notation. We write `math.pi` to access the constant value 3.14. What happens if we try to ask for pi _without_ the math module?"
      ]
    },
    {
      "cell_type": "code",
      "execution_count": 29,
      "metadata": {
        "id": "MuY1DT4c7_5Y",
        "colab": {
          "base_uri": "https://localhost:8080/",
          "height": 141
        },
        "outputId": "260d2ee8-989f-4cce-85ee-2d923d0c4bfb"
      },
      "outputs": [
        {
          "output_type": "error",
          "ename": "NameError",
          "evalue": "name 'pi' is not defined",
          "traceback": [
            "\u001b[0;31m---------------------------------------------------------------------------\u001b[0m",
            "\u001b[0;31mNameError\u001b[0m                                 Traceback (most recent call last)",
            "\u001b[0;32m<ipython-input-29-9e2d2bd32686>\u001b[0m in \u001b[0;36m<cell line: 1>\u001b[0;34m()\u001b[0m\n\u001b[0;32m----> 1\u001b[0;31m \u001b[0mprint\u001b[0m\u001b[0;34m(\u001b[0m\u001b[0mpi\u001b[0m\u001b[0;34m)\u001b[0m\u001b[0;34m\u001b[0m\u001b[0;34m\u001b[0m\u001b[0m\n\u001b[0m",
            "\u001b[0;31mNameError\u001b[0m: name 'pi' is not defined"
          ]
        }
      ],
      "source": [
        "print(pi)"
      ]
    },
    {
      "cell_type": "markdown",
      "metadata": {
        "id": "h_Fr6enY7_5Y"
      },
      "source": [
        "Look at all of that text above: That's Python's way of signaling an error. As you can guess, 'pi' is undefined. But `math.pi` *is* defined and ours to use once we import math. In fact, we can call lots of math functions using dot notation:"
      ]
    },
    {
      "cell_type": "code",
      "execution_count": 34,
      "metadata": {
        "id": "a4xOG6xr7_5Y",
        "colab": {
          "base_uri": "https://localhost:8080/"
        },
        "outputId": "cc602a72-84f2-463d-b006-4d4f4ef27ebd"
      },
      "outputs": [
        {
          "output_type": "stream",
          "name": "stdout",
          "text": [
            "The factorial of 5 is = 120\n",
            "90 degrees in radians = 1.5707963267948966\n",
            "The sine of 90 degrees = 1.0\n",
            "We can represent non-numbers with nan\n"
          ]
        }
      ],
      "source": [
        "print(\"The factorial of 5 is =\", math.factorial(5))\n",
        "print(\"90 degrees in radians =\", math.radians(90))\n",
        "print(\"The sine of 90 degrees =\", math.sin(math.radians(90)))\n",
        "print(\"We can represent non-numbers with\", math.nan)"
      ]
    },
    {
      "cell_type": "markdown",
      "metadata": {
        "id": "KWkEUEtH7_5Y"
      },
      "source": [
        "Don't worry too much about the actual math. The important thing to note here is we import libraries as modules, and we access things inside of them with `module_name.function_or_constant_name` (e.g., `math.inf` returns a constant for positive infinity).  \n",
        "\n",
        "Sometimes we only want to import a few functions or constants from a library. As an example, imagine we only need the constant `pi` and the function `pow` from the math library. We can do the following to just get those two:"
      ]
    },
    {
      "cell_type": "code",
      "execution_count": 37,
      "metadata": {
        "id": "SuQyJaGD7_5Y",
        "colab": {
          "base_uri": "https://localhost:8080/"
        },
        "outputId": "e03a870c-80f4-473e-dc87-e82aeb25219f"
      },
      "outputs": [
        {
          "output_type": "stream",
          "name": "stdout",
          "text": [
            "3.141592653589793\n",
            "2 to the 5th power = 32.0\n"
          ]
        }
      ],
      "source": [
        "from math import pi, pow\n",
        "print(pi)\n",
        "print(\"2 to the 5th power =\", pow(2,5))"
      ]
    },
    {
      "cell_type": "markdown",
      "metadata": {
        "id": "lmeO7_y07_5Y"
      },
      "source": [
        "We can also import a library and give it an alias. For example, we will us a library named `pandas` **a lot** in this and other courses. You often see the pandas module given the nickname or alias `pd`. Here's how to do that:"
      ]
    },
    {
      "cell_type": "code",
      "execution_count": 38,
      "metadata": {
        "id": "TdtVfyfA7_5Y",
        "colab": {
          "base_uri": "https://localhost:8080/"
        },
        "outputId": "901c8a96-ba22-4078-d6ff-6b086839d10f"
      },
      "outputs": [
        {
          "output_type": "stream",
          "name": "stdout",
          "text": [
            "<module 'pandas' from '/usr/local/lib/python3.10/dist-packages/pandas/__init__.py'>\n",
            "0    1\n",
            "1    3\n",
            "2    5\n",
            "3    7\n",
            "4    9\n",
            "dtype: int64\n"
          ]
        }
      ],
      "source": [
        "import pandas as pd\n",
        "print(pd)\n",
        "my_series = pd.Series([1,3, 5, 7, 9])\n",
        "print(my_series)"
      ]
    },
    {
      "cell_type": "markdown",
      "metadata": {
        "id": "t3XsHaV57_5Y"
      },
      "source": [
        "You can see that we import pandas *as* `pd`. Then we can use dot notation on pd to use functions in the pandas library. We printed pd to make sure it's a module. Then we called a function named `Series` to make a one-dimensional array of numbers. Think of a `Series` as a single column or row in a data table."
      ]
    },
    {
      "cell_type": "markdown",
      "metadata": {
        "id": "vaOYQzAo7_5Y"
      },
      "source": [
        "### Loading data from a file into a `pandas` `DataFrame`"
      ]
    },
    {
      "cell_type": "markdown",
      "metadata": {
        "id": "3zai2-db7_5Y"
      },
      "source": [
        "We'll often have data stored in a file or database that we want to load into a Notebook. pandas has a set of [input/output functions](https://pandas.pydata.org/docs/user_guide/io.html) that let us load and store data from HTML, common-separated value (CSV), Excel, SQL, and other files. Let's try a simple example with a CSV file.\n",
        "  \n",
        "You should have a file named 'student-scores.csv' in the repository that you forked from GitHub. Let's load that file using the pandas function `read_csv`."
      ]
    },
    {
      "cell_type": "code",
      "execution_count": null,
      "metadata": {
        "id": "8N2sgQTW7_5Z"
      },
      "outputs": [],
      "source": [
        "df = pd.read_csv(\"student-scores.csv\")\n",
        "df.head()"
      ]
    },
    {
      "cell_type": "markdown",
      "metadata": {
        "id": "RGADH9cy7_5Z"
      },
      "source": [
        "Here's what we just did:\n",
        "1. We called `pd.read_csv` with the name of our data file, student-scores.csv.\n",
        "2. `read_csv` loads the file and converts it to a pandas `DataFrame`. A `DataFrame` is like an Excel sheet, a bunch of data elements in rows with different attributes or features in the columns. We assign the new `DataFrame` to a variable called `df`.\n",
        "3. Now that `df` is defined as a `DataFrame`, we can use dot notation to run `DataFrame` functions on it. One of those is called `head` which returns the first five rows of the data table.\n",
        "You see that the columns of the table are named things like `first_name`, `last_name`, `gender`, etc. This is a table of student records, so you'l also see things like `absence_days`, `math_score`, `physics_score`, etc. You can imagine a scenario where these data might be used to understand patterns or relations between variables (e.g., are there correlations betweem math and physics scores). We'll do more of that kind of analysis in the next module.  \n",
        "  \n",
        "You also have an Excel version of student-scores. You should be able to find a pandas command that works like `read_csv` but loads an Excel file instead. [This list](https://pandas.pydata.org/docs/user_guide/io.html) of input/output functions will help you.\n"
      ]
    },
    {
      "cell_type": "code",
      "execution_count": null,
      "metadata": {
        "id": "XUL7efgy7_5Z"
      },
      "outputs": [],
      "source": [
        "# create a variable named excel_df. then use a pandas function to\n",
        "# read the Excel data file named 'student-scores.xlsx'. Assign\n",
        "# the DataFrame to the df_excel variable.\n",
        "\n",
        "### CREATE df_excel BELOW AND ASSIGN IT WHAT YOU READ FROM 'student-scores.xlsx'.\n",
        "\n",
        "\n",
        "### KEEP THE LINE BELOW SO YOU CAN SEE IF YOU HAVE THE DATA IN df_excel\n",
        "excel_df.head()"
      ]
    },
    {
      "cell_type": "markdown",
      "metadata": {
        "id": "lfiO_oODvFb0"
      },
      "source": [
        "You should have two dataframes, `df` and `df_excel` that contain the *same* data. Let's make sure that's true using the `pandas` function `equals()` below:"
      ]
    },
    {
      "cell_type": "code",
      "execution_count": null,
      "metadata": {
        "id": "r7L4vrjHvFb0"
      },
      "outputs": [],
      "source": [
        "df.equals(excel_df)"
      ]
    },
    {
      "cell_type": "markdown",
      "metadata": {
        "id": "fjVBK58MvFb0"
      },
      "source": []
    }
  ],
  "metadata": {
    "colab": {
      "provenance": [],
      "include_colab_link": true
    },
    "kernelspec": {
      "display_name": "Python 3 (ipykernel)",
      "language": "python",
      "name": "python3"
    },
    "language_info": {
      "codemirror_mode": {
        "name": "ipython",
        "version": 3
      },
      "file_extension": ".py",
      "mimetype": "text/x-python",
      "name": "python",
      "nbconvert_exporter": "python",
      "pygments_lexer": "ipython3",
      "version": "3.11.5"
    }
  },
  "nbformat": 4,
  "nbformat_minor": 0
}